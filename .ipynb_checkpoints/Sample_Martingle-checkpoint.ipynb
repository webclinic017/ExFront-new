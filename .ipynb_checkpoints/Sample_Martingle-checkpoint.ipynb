{
 "cells": [
  {
   "cell_type": "code",
   "execution_count": 1,
   "id": "7155bddd-dec0-452d-93d0-2239258878c8",
   "metadata": {},
   "outputs": [],
   "source": [
    "import datetime\n",
    "# import warnings\n",
    "# warnings.filterwarnings('ignore')"
   ]
  },
  {
   "cell_type": "code",
   "execution_count": 2,
   "id": "d7480a51-ba08-40e1-b5c9-cabedf8c6b51",
   "metadata": {},
   "outputs": [
    {
     "data": {
      "text/html": [
       "\n",
       "    <div class=\"bk-root\">\n",
       "        <a href=\"https://bokeh.org\" target=\"_blank\" class=\"bk-logo bk-logo-small bk-logo-notebook\"></a>\n",
       "        <span id=\"1002\">Loading BokehJS ...</span>\n",
       "    </div>"
      ]
     },
     "metadata": {},
     "output_type": "display_data"
    },
    {
     "data": {
      "application/javascript": [
       "\n",
       "(function(root) {\n",
       "  function now() {\n",
       "    return new Date();\n",
       "  }\n",
       "\n",
       "  var force = true;\n",
       "\n",
       "  if (typeof root._bokeh_onload_callbacks === \"undefined\" || force === true) {\n",
       "    root._bokeh_onload_callbacks = [];\n",
       "    root._bokeh_is_loading = undefined;\n",
       "  }\n",
       "\n",
       "  var JS_MIME_TYPE = 'application/javascript';\n",
       "  var HTML_MIME_TYPE = 'text/html';\n",
       "  var EXEC_MIME_TYPE = 'application/vnd.bokehjs_exec.v0+json';\n",
       "  var CLASS_NAME = 'output_bokeh rendered_html';\n",
       "\n",
       "  /**\n",
       "   * Render data to the DOM node\n",
       "   */\n",
       "  function render(props, node) {\n",
       "    var script = document.createElement(\"script\");\n",
       "    node.appendChild(script);\n",
       "  }\n",
       "\n",
       "  /**\n",
       "   * Handle when an output is cleared or removed\n",
       "   */\n",
       "  function handleClearOutput(event, handle) {\n",
       "    var cell = handle.cell;\n",
       "\n",
       "    var id = cell.output_area._bokeh_element_id;\n",
       "    var server_id = cell.output_area._bokeh_server_id;\n",
       "    // Clean up Bokeh references\n",
       "    if (id != null && id in Bokeh.index) {\n",
       "      Bokeh.index[id].model.document.clear();\n",
       "      delete Bokeh.index[id];\n",
       "    }\n",
       "\n",
       "    if (server_id !== undefined) {\n",
       "      // Clean up Bokeh references\n",
       "      var cmd = \"from bokeh.io.state import curstate; print(curstate().uuid_to_server['\" + server_id + \"'].get_sessions()[0].document.roots[0]._id)\";\n",
       "      cell.notebook.kernel.execute(cmd, {\n",
       "        iopub: {\n",
       "          output: function(msg) {\n",
       "            var id = msg.content.text.trim();\n",
       "            if (id in Bokeh.index) {\n",
       "              Bokeh.index[id].model.document.clear();\n",
       "              delete Bokeh.index[id];\n",
       "            }\n",
       "          }\n",
       "        }\n",
       "      });\n",
       "      // Destroy server and session\n",
       "      var cmd = \"import bokeh.io.notebook as ion; ion.destroy_server('\" + server_id + \"')\";\n",
       "      cell.notebook.kernel.execute(cmd);\n",
       "    }\n",
       "  }\n",
       "\n",
       "  /**\n",
       "   * Handle when a new output is added\n",
       "   */\n",
       "  function handleAddOutput(event, handle) {\n",
       "    var output_area = handle.output_area;\n",
       "    var output = handle.output;\n",
       "\n",
       "    // limit handleAddOutput to display_data with EXEC_MIME_TYPE content only\n",
       "    if ((output.output_type != \"display_data\") || (!Object.prototype.hasOwnProperty.call(output.data, EXEC_MIME_TYPE))) {\n",
       "      return\n",
       "    }\n",
       "\n",
       "    var toinsert = output_area.element.find(\".\" + CLASS_NAME.split(' ')[0]);\n",
       "\n",
       "    if (output.metadata[EXEC_MIME_TYPE][\"id\"] !== undefined) {\n",
       "      toinsert[toinsert.length - 1].firstChild.textContent = output.data[JS_MIME_TYPE];\n",
       "      // store reference to embed id on output_area\n",
       "      output_area._bokeh_element_id = output.metadata[EXEC_MIME_TYPE][\"id\"];\n",
       "    }\n",
       "    if (output.metadata[EXEC_MIME_TYPE][\"server_id\"] !== undefined) {\n",
       "      var bk_div = document.createElement(\"div\");\n",
       "      bk_div.innerHTML = output.data[HTML_MIME_TYPE];\n",
       "      var script_attrs = bk_div.children[0].attributes;\n",
       "      for (var i = 0; i < script_attrs.length; i++) {\n",
       "        toinsert[toinsert.length - 1].firstChild.setAttribute(script_attrs[i].name, script_attrs[i].value);\n",
       "        toinsert[toinsert.length - 1].firstChild.textContent = bk_div.children[0].textContent\n",
       "      }\n",
       "      // store reference to server id on output_area\n",
       "      output_area._bokeh_server_id = output.metadata[EXEC_MIME_TYPE][\"server_id\"];\n",
       "    }\n",
       "  }\n",
       "\n",
       "  function register_renderer(events, OutputArea) {\n",
       "\n",
       "    function append_mime(data, metadata, element) {\n",
       "      // create a DOM node to render to\n",
       "      var toinsert = this.create_output_subarea(\n",
       "        metadata,\n",
       "        CLASS_NAME,\n",
       "        EXEC_MIME_TYPE\n",
       "      );\n",
       "      this.keyboard_manager.register_events(toinsert);\n",
       "      // Render to node\n",
       "      var props = {data: data, metadata: metadata[EXEC_MIME_TYPE]};\n",
       "      render(props, toinsert[toinsert.length - 1]);\n",
       "      element.append(toinsert);\n",
       "      return toinsert\n",
       "    }\n",
       "\n",
       "    /* Handle when an output is cleared or removed */\n",
       "    events.on('clear_output.CodeCell', handleClearOutput);\n",
       "    events.on('delete.Cell', handleClearOutput);\n",
       "\n",
       "    /* Handle when a new output is added */\n",
       "    events.on('output_added.OutputArea', handleAddOutput);\n",
       "\n",
       "    /**\n",
       "     * Register the mime type and append_mime function with output_area\n",
       "     */\n",
       "    OutputArea.prototype.register_mime_type(EXEC_MIME_TYPE, append_mime, {\n",
       "      /* Is output safe? */\n",
       "      safe: true,\n",
       "      /* Index of renderer in `output_area.display_order` */\n",
       "      index: 0\n",
       "    });\n",
       "  }\n",
       "\n",
       "  // register the mime type if in Jupyter Notebook environment and previously unregistered\n",
       "  if (root.Jupyter !== undefined) {\n",
       "    var events = require('base/js/events');\n",
       "    var OutputArea = require('notebook/js/outputarea').OutputArea;\n",
       "\n",
       "    if (OutputArea.prototype.mime_types().indexOf(EXEC_MIME_TYPE) == -1) {\n",
       "      register_renderer(events, OutputArea);\n",
       "    }\n",
       "  }\n",
       "\n",
       "  \n",
       "  if (typeof (root._bokeh_timeout) === \"undefined\" || force === true) {\n",
       "    root._bokeh_timeout = Date.now() + 5000;\n",
       "    root._bokeh_failed_load = false;\n",
       "  }\n",
       "\n",
       "  var NB_LOAD_WARNING = {'data': {'text/html':\n",
       "     \"<div style='background-color: #fdd'>\\n\"+\n",
       "     \"<p>\\n\"+\n",
       "     \"BokehJS does not appear to have successfully loaded. If loading BokehJS from CDN, this \\n\"+\n",
       "     \"may be due to a slow or bad network connection. Possible fixes:\\n\"+\n",
       "     \"</p>\\n\"+\n",
       "     \"<ul>\\n\"+\n",
       "     \"<li>re-rerun `output_notebook()` to attempt to load from CDN again, or</li>\\n\"+\n",
       "     \"<li>use INLINE resources instead, as so:</li>\\n\"+\n",
       "     \"</ul>\\n\"+\n",
       "     \"<code>\\n\"+\n",
       "     \"from bokeh.resources import INLINE\\n\"+\n",
       "     \"output_notebook(resources=INLINE)\\n\"+\n",
       "     \"</code>\\n\"+\n",
       "     \"</div>\"}};\n",
       "\n",
       "  function display_loaded() {\n",
       "    var el = document.getElementById(\"1002\");\n",
       "    if (el != null) {\n",
       "      el.textContent = \"BokehJS is loading...\";\n",
       "    }\n",
       "    if (root.Bokeh !== undefined) {\n",
       "      if (el != null) {\n",
       "        el.textContent = \"BokehJS \" + root.Bokeh.version + \" successfully loaded.\";\n",
       "      }\n",
       "    } else if (Date.now() < root._bokeh_timeout) {\n",
       "      setTimeout(display_loaded, 100)\n",
       "    }\n",
       "  }\n",
       "\n",
       "\n",
       "  function run_callbacks() {\n",
       "    try {\n",
       "      root._bokeh_onload_callbacks.forEach(function(callback) {\n",
       "        if (callback != null)\n",
       "          callback();\n",
       "      });\n",
       "    } finally {\n",
       "      delete root._bokeh_onload_callbacks\n",
       "    }\n",
       "    console.debug(\"Bokeh: all callbacks have finished\");\n",
       "  }\n",
       "\n",
       "  function load_libs(css_urls, js_urls, callback) {\n",
       "    if (css_urls == null) css_urls = [];\n",
       "    if (js_urls == null) js_urls = [];\n",
       "\n",
       "    root._bokeh_onload_callbacks.push(callback);\n",
       "    if (root._bokeh_is_loading > 0) {\n",
       "      console.debug(\"Bokeh: BokehJS is being loaded, scheduling callback at\", now());\n",
       "      return null;\n",
       "    }\n",
       "    if (js_urls == null || js_urls.length === 0) {\n",
       "      run_callbacks();\n",
       "      return null;\n",
       "    }\n",
       "    console.debug(\"Bokeh: BokehJS not loaded, scheduling load and callback at\", now());\n",
       "    root._bokeh_is_loading = css_urls.length + js_urls.length;\n",
       "\n",
       "    function on_load() {\n",
       "      root._bokeh_is_loading--;\n",
       "      if (root._bokeh_is_loading === 0) {\n",
       "        console.debug(\"Bokeh: all BokehJS libraries/stylesheets loaded\");\n",
       "        run_callbacks()\n",
       "      }\n",
       "    }\n",
       "\n",
       "    function on_error(url) {\n",
       "      console.error(\"failed to load \" + url);\n",
       "    }\n",
       "\n",
       "    for (let i = 0; i < css_urls.length; i++) {\n",
       "      const url = css_urls[i];\n",
       "      const element = document.createElement(\"link\");\n",
       "      element.onload = on_load;\n",
       "      element.onerror = on_error.bind(null, url);\n",
       "      element.rel = \"stylesheet\";\n",
       "      element.type = \"text/css\";\n",
       "      element.href = url;\n",
       "      console.debug(\"Bokeh: injecting link tag for BokehJS stylesheet: \", url);\n",
       "      document.body.appendChild(element);\n",
       "    }\n",
       "\n",
       "    const hashes = {\"https://cdn.bokeh.org/bokeh/release/bokeh-2.3.3.min.js\": \"dM3QQsP+wXdHg42wTqW85BjZQdLNNIXqlPw/BgKoExPmTG7ZLML4EGqLMfqHT6ON\", \"https://cdn.bokeh.org/bokeh/release/bokeh-tables-2.3.3.min.js\": \"8x57I4YuIfu8XyZfFo0XVr2WAT8EK4rh/uDe3wF7YuW2FNUSNEpJbsPaB1nJ2fz2\", \"https://cdn.bokeh.org/bokeh/release/bokeh-widgets-2.3.3.min.js\": \"3QTqdz9LyAm2i0sG5XTePsHec3UHWwVsrOL68SYRoAXsafvfAyqtQ+h440+qIBhS\"};\n",
       "\n",
       "    for (let i = 0; i < js_urls.length; i++) {\n",
       "      const url = js_urls[i];\n",
       "      const element = document.createElement('script');\n",
       "      element.onload = on_load;\n",
       "      element.onerror = on_error.bind(null, url);\n",
       "      element.async = false;\n",
       "      element.src = url;\n",
       "      if (url in hashes) {\n",
       "        element.crossOrigin = \"anonymous\";\n",
       "        element.integrity = \"sha384-\" + hashes[url];\n",
       "      }\n",
       "      console.debug(\"Bokeh: injecting script tag for BokehJS library: \", url);\n",
       "      document.head.appendChild(element);\n",
       "    }\n",
       "  };\n",
       "\n",
       "  function inject_raw_css(css) {\n",
       "    const element = document.createElement(\"style\");\n",
       "    element.appendChild(document.createTextNode(css));\n",
       "    document.body.appendChild(element);\n",
       "  }\n",
       "\n",
       "  \n",
       "  var js_urls = [\"https://cdn.bokeh.org/bokeh/release/bokeh-2.3.3.min.js\", \"https://cdn.bokeh.org/bokeh/release/bokeh-widgets-2.3.3.min.js\", \"https://cdn.bokeh.org/bokeh/release/bokeh-tables-2.3.3.min.js\"];\n",
       "  var css_urls = [];\n",
       "  \n",
       "\n",
       "  var inline_js = [\n",
       "    function(Bokeh) {\n",
       "      Bokeh.set_log_level(\"info\");\n",
       "    },\n",
       "    function(Bokeh) {\n",
       "    \n",
       "    \n",
       "    }\n",
       "  ];\n",
       "\n",
       "  function run_inline_js() {\n",
       "    \n",
       "    if (root.Bokeh !== undefined || force === true) {\n",
       "      \n",
       "    for (var i = 0; i < inline_js.length; i++) {\n",
       "      inline_js[i].call(root, root.Bokeh);\n",
       "    }\n",
       "    if (force === true) {\n",
       "        display_loaded();\n",
       "      }} else if (Date.now() < root._bokeh_timeout) {\n",
       "      setTimeout(run_inline_js, 100);\n",
       "    } else if (!root._bokeh_failed_load) {\n",
       "      console.log(\"Bokeh: BokehJS failed to load within specified timeout.\");\n",
       "      root._bokeh_failed_load = true;\n",
       "    } else if (force !== true) {\n",
       "      var cell = $(document.getElementById(\"1002\")).parents('.cell').data().cell;\n",
       "      cell.output_area.append_execute_result(NB_LOAD_WARNING)\n",
       "    }\n",
       "\n",
       "  }\n",
       "\n",
       "  if (root._bokeh_is_loading === 0) {\n",
       "    console.debug(\"Bokeh: BokehJS loaded, going straight to plotting\");\n",
       "    run_inline_js();\n",
       "  } else {\n",
       "    load_libs(css_urls, js_urls, function() {\n",
       "      console.debug(\"Bokeh: BokehJS plotting callback run at\", now());\n",
       "      run_inline_js();\n",
       "    });\n",
       "  }\n",
       "}(window));"
      ],
      "application/vnd.bokehjs_load.v0+json": "\n(function(root) {\n  function now() {\n    return new Date();\n  }\n\n  var force = true;\n\n  if (typeof root._bokeh_onload_callbacks === \"undefined\" || force === true) {\n    root._bokeh_onload_callbacks = [];\n    root._bokeh_is_loading = undefined;\n  }\n\n  \n\n  \n  if (typeof (root._bokeh_timeout) === \"undefined\" || force === true) {\n    root._bokeh_timeout = Date.now() + 5000;\n    root._bokeh_failed_load = false;\n  }\n\n  var NB_LOAD_WARNING = {'data': {'text/html':\n     \"<div style='background-color: #fdd'>\\n\"+\n     \"<p>\\n\"+\n     \"BokehJS does not appear to have successfully loaded. If loading BokehJS from CDN, this \\n\"+\n     \"may be due to a slow or bad network connection. Possible fixes:\\n\"+\n     \"</p>\\n\"+\n     \"<ul>\\n\"+\n     \"<li>re-rerun `output_notebook()` to attempt to load from CDN again, or</li>\\n\"+\n     \"<li>use INLINE resources instead, as so:</li>\\n\"+\n     \"</ul>\\n\"+\n     \"<code>\\n\"+\n     \"from bokeh.resources import INLINE\\n\"+\n     \"output_notebook(resources=INLINE)\\n\"+\n     \"</code>\\n\"+\n     \"</div>\"}};\n\n  function display_loaded() {\n    var el = document.getElementById(\"1002\");\n    if (el != null) {\n      el.textContent = \"BokehJS is loading...\";\n    }\n    if (root.Bokeh !== undefined) {\n      if (el != null) {\n        el.textContent = \"BokehJS \" + root.Bokeh.version + \" successfully loaded.\";\n      }\n    } else if (Date.now() < root._bokeh_timeout) {\n      setTimeout(display_loaded, 100)\n    }\n  }\n\n\n  function run_callbacks() {\n    try {\n      root._bokeh_onload_callbacks.forEach(function(callback) {\n        if (callback != null)\n          callback();\n      });\n    } finally {\n      delete root._bokeh_onload_callbacks\n    }\n    console.debug(\"Bokeh: all callbacks have finished\");\n  }\n\n  function load_libs(css_urls, js_urls, callback) {\n    if (css_urls == null) css_urls = [];\n    if (js_urls == null) js_urls = [];\n\n    root._bokeh_onload_callbacks.push(callback);\n    if (root._bokeh_is_loading > 0) {\n      console.debug(\"Bokeh: BokehJS is being loaded, scheduling callback at\", now());\n      return null;\n    }\n    if (js_urls == null || js_urls.length === 0) {\n      run_callbacks();\n      return null;\n    }\n    console.debug(\"Bokeh: BokehJS not loaded, scheduling load and callback at\", now());\n    root._bokeh_is_loading = css_urls.length + js_urls.length;\n\n    function on_load() {\n      root._bokeh_is_loading--;\n      if (root._bokeh_is_loading === 0) {\n        console.debug(\"Bokeh: all BokehJS libraries/stylesheets loaded\");\n        run_callbacks()\n      }\n    }\n\n    function on_error(url) {\n      console.error(\"failed to load \" + url);\n    }\n\n    for (let i = 0; i < css_urls.length; i++) {\n      const url = css_urls[i];\n      const element = document.createElement(\"link\");\n      element.onload = on_load;\n      element.onerror = on_error.bind(null, url);\n      element.rel = \"stylesheet\";\n      element.type = \"text/css\";\n      element.href = url;\n      console.debug(\"Bokeh: injecting link tag for BokehJS stylesheet: \", url);\n      document.body.appendChild(element);\n    }\n\n    const hashes = {\"https://cdn.bokeh.org/bokeh/release/bokeh-2.3.3.min.js\": \"dM3QQsP+wXdHg42wTqW85BjZQdLNNIXqlPw/BgKoExPmTG7ZLML4EGqLMfqHT6ON\", \"https://cdn.bokeh.org/bokeh/release/bokeh-tables-2.3.3.min.js\": \"8x57I4YuIfu8XyZfFo0XVr2WAT8EK4rh/uDe3wF7YuW2FNUSNEpJbsPaB1nJ2fz2\", \"https://cdn.bokeh.org/bokeh/release/bokeh-widgets-2.3.3.min.js\": \"3QTqdz9LyAm2i0sG5XTePsHec3UHWwVsrOL68SYRoAXsafvfAyqtQ+h440+qIBhS\"};\n\n    for (let i = 0; i < js_urls.length; i++) {\n      const url = js_urls[i];\n      const element = document.createElement('script');\n      element.onload = on_load;\n      element.onerror = on_error.bind(null, url);\n      element.async = false;\n      element.src = url;\n      if (url in hashes) {\n        element.crossOrigin = \"anonymous\";\n        element.integrity = \"sha384-\" + hashes[url];\n      }\n      console.debug(\"Bokeh: injecting script tag for BokehJS library: \", url);\n      document.head.appendChild(element);\n    }\n  };\n\n  function inject_raw_css(css) {\n    const element = document.createElement(\"style\");\n    element.appendChild(document.createTextNode(css));\n    document.body.appendChild(element);\n  }\n\n  \n  var js_urls = [\"https://cdn.bokeh.org/bokeh/release/bokeh-2.3.3.min.js\", \"https://cdn.bokeh.org/bokeh/release/bokeh-widgets-2.3.3.min.js\", \"https://cdn.bokeh.org/bokeh/release/bokeh-tables-2.3.3.min.js\"];\n  var css_urls = [];\n  \n\n  var inline_js = [\n    function(Bokeh) {\n      Bokeh.set_log_level(\"info\");\n    },\n    function(Bokeh) {\n    \n    \n    }\n  ];\n\n  function run_inline_js() {\n    \n    if (root.Bokeh !== undefined || force === true) {\n      \n    for (var i = 0; i < inline_js.length; i++) {\n      inline_js[i].call(root, root.Bokeh);\n    }\n    if (force === true) {\n        display_loaded();\n      }} else if (Date.now() < root._bokeh_timeout) {\n      setTimeout(run_inline_js, 100);\n    } else if (!root._bokeh_failed_load) {\n      console.log(\"Bokeh: BokehJS failed to load within specified timeout.\");\n      root._bokeh_failed_load = true;\n    } else if (force !== true) {\n      var cell = $(document.getElementById(\"1002\")).parents('.cell').data().cell;\n      cell.output_area.append_execute_result(NB_LOAD_WARNING)\n    }\n\n  }\n\n  if (root._bokeh_is_loading === 0) {\n    console.debug(\"Bokeh: BokehJS loaded, going straight to plotting\");\n    run_inline_js();\n  } else {\n    load_libs(css_urls, js_urls, function() {\n      console.debug(\"Bokeh: BokehJS plotting callback run at\", now());\n      run_inline_js();\n    });\n  }\n}(window));"
     },
     "metadata": {},
     "output_type": "display_data"
    }
   ],
   "source": [
    "# from IPython.display import HTML\n",
    "from gym_trade_environment import GymMartingaleEnv, csv_data_reader, TimeFrame"
   ]
  },
  {
   "cell_type": "code",
   "execution_count": 3,
   "id": "2b3b3866-3a91-415e-8c2d-95bc5f5839f1",
   "metadata": {},
   "outputs": [],
   "source": [
    "data = csv_data_reader(\n",
    "        dataname='EURUSD_Data.csv',  # آدرس دیتا بیس\n",
    "        dtformat=('%m/%d/%y %H:%M'),  # فرمت تاریخ و زمان در فایل\n",
    "        timeframe=TimeFrame.Minutes,  #  واحد تایم فریم (ثانیه، دقیقه، ساعت، روز)\n",
    "        fromdate=datetime.datetime(2021,5,11,0,0),\n",
    "        todate=datetime.datetime(2021,5,15,0,0),\n",
    "        datetime=0, # شماره ستون زمان\n",
    "        high=2, # شماره ستون قیمت بالای کندل\n",
    "        low=3, # شماره ستون قیمت پایین کندل\n",
    "        open=1, # شماره ستون قیمت بازشدن کندل\n",
    "        close=4, # شماره ستون قیمت بستن کندل\n",
    "        volume=-1, # شماره ستون قیمت حجم کندل\n",
    "        openinterest=-1,\n",
    "    )"
   ]
  },
  {
   "cell_type": "code",
   "execution_count": 4,
   "id": "549e1042-35f1-42c9-8993-bdde2afb26b6",
   "metadata": {},
   "outputs": [],
   "source": [
    "env = GymMartingaleEnv(\n",
    "    data,  # دیتای ورودی برای بک تست و ترین\n",
    "    max_step=5,  # حداکثر تعداد پله های ورود به معامله\n",
    "    init_cash=10_000,  # کل پول مورد نظر برای معامله پله ای\n",
    "    base_cash = 10,  # مقادر پول پایه مانده حساب برای صفر نشد حساب\n",
    "    commission=0.000,  # میزان کمیسون معامله\n",
    "    )"
   ]
  },
  {
   "cell_type": "code",
   "execution_count": 5,
   "id": "f4210cb2-6abe-4aeb-a519-a68dc0e4c14d",
   "metadata": {},
   "outputs": [
    {
     "data": {
      "text/plain": [
       "(1, 2, 4, 8, 16)"
      ]
     },
     "execution_count": 5,
     "metadata": {},
     "output_type": "execute_result"
    }
   ],
   "source": [
    "env.share_steps"
   ]
  },
  {
   "cell_type": "code",
   "execution_count": 6,
   "id": "faab11af-17ca-4d13-8f65-6a893aa82a1f",
   "metadata": {},
   "outputs": [
    {
     "data": {
      "text/plain": [
       "10000.0"
      ]
     },
     "execution_count": 6,
     "metadata": {},
     "output_type": "execute_result"
    }
   ],
   "source": [
    "env.share_size * sum(env.share_steps)"
   ]
  },
  {
   "cell_type": "code",
   "execution_count": 7,
   "id": "9a66aaa8-0a30-4c7b-85aa-276cb8eb9ba1",
   "metadata": {},
   "outputs": [
    {
     "data": {
      "text/plain": [
       "Discrete(3, start=-1)"
      ]
     },
     "execution_count": 7,
     "metadata": {},
     "output_type": "execute_result"
    }
   ],
   "source": [
    "env.action_space"
   ]
  },
  {
   "cell_type": "code",
   "execution_count": 8,
   "id": "5beb4953-9fad-4ff3-912e-fd9e3ca1b442",
   "metadata": {},
   "outputs": [
    {
     "data": {
      "text/plain": [
       "Dict(Asset Value:Box(0.0, inf, (1,), float32), Cash:Box(0.0, inf, (1,), float32), Position Size:Box(-2147483646, 2147483645, (1,), int32), Position Step:Discrete(5), Price Candle:Box(0.0, inf, (4,), float32))"
      ]
     },
     "execution_count": 8,
     "metadata": {},
     "output_type": "execute_result"
    }
   ],
   "source": [
    "env.observation_space"
   ]
  },
  {
   "cell_type": "code",
   "execution_count": 9,
   "id": "5c85d64f-66a9-4f0e-84fc-2b9bd1c7f4f0",
   "metadata": {},
   "outputs": [
    {
     "data": {
      "text/plain": [
       "({'Asset Value': 10010.0,\n",
       "  'Cash': 10010.0,\n",
       "  'Position Size': 0,\n",
       "  'Position Step': 0,\n",
       "  'Price Candle': array([1.21406, 1.21429, 1.21358, 1.21385])},\n",
       " defaultdict(str, {}))"
      ]
     },
     "execution_count": 9,
     "metadata": {},
     "output_type": "execute_result"
    }
   ],
   "source": [
    "env.reset()"
   ]
  },
  {
   "cell_type": "code",
   "execution_count": 10,
   "id": "b192171d-ea4f-42a1-9703-5385c33f2d9e",
   "metadata": {},
   "outputs": [
    {
     "data": {
      "text/plain": [
       "({'Asset Value': 10009.851612903225,\n",
       "  'Cash': 9687.270967741935,\n",
       "  'Position Size': 322.5806451612903,\n",
       "  'Position Step': 1,\n",
       "  'Price Candle': array([1.21385, 1.21391, 1.21325, 1.21339])},\n",
       " -0.14838709677496809,\n",
       " False,\n",
       " defaultdict(str, {'Orders': 'buy set with value=322.5806451612903'}))"
      ]
     },
     "execution_count": 10,
     "metadata": {},
     "output_type": "execute_result"
    }
   ],
   "source": [
    "env.step(1)"
   ]
  },
  {
   "cell_type": "code",
   "execution_count": 12,
   "id": "daffe785-3eb8-45da-8bf8-708e6ca04241",
   "metadata": {},
   "outputs": [
    {
     "data": {
      "text/plain": [
       "({'Asset Value': 10008.545161290323,\n",
       "  'Cash': 7750.48064516129,\n",
       "  'Position Size': 2258.064516129032,\n",
       "  'Position Step': 3,\n",
       "  'Price Candle': array([1.21337, 1.21358, 1.2126 , 1.2128 ])},\n",
       " -1.2870967741928325,\n",
       " False,\n",
       " defaultdict(str,\n",
       "             {'Broker': 'BUY EXECUTED at price: 1.21339, with value: 645.16129',\n",
       "              'Orders': 'buy set with value=1290.3225806451612'}))"
      ]
     },
     "execution_count": 12,
     "metadata": {},
     "output_type": "execute_result"
    }
   ],
   "source": [
    "env.step(1)"
   ]
  },
  {
   "cell_type": "code",
   "execution_count": 13,
   "id": "6d71b521-5250-4249-a233-e8c7d7b27130",
   "metadata": {},
   "outputs": [
    {
     "data": {
      "text/plain": [
       "({'Asset Value': 10008.996774193547,\n",
       "  'Cash': 7750.932258064516,\n",
       "  'Position Size': 2258.064516129032,\n",
       "  'Position Step': 3,\n",
       "  'Price Candle': array([1.2128 , 1.21302, 1.21264, 1.213  ])},\n",
       " 0.4516129032235767,\n",
       " False,\n",
       " defaultdict(str,\n",
       "             {'Broker': 'BUY EXECUTED at price: 1.21337, with value: 1290.32258'}))"
      ]
     },
     "execution_count": 13,
     "metadata": {},
     "output_type": "execute_result"
    }
   ],
   "source": [
    "env.step(0)"
   ]
  },
  {
   "cell_type": "code",
   "execution_count": 14,
   "id": "c7c479ef-b3e2-4e2d-9020-9241402d5183",
   "metadata": {},
   "outputs": [
    {
     "data": {
      "text/plain": [
       "({'Asset Value': 10008.996774193547,\n",
       "  'Cash': 10008.996774193547,\n",
       "  'Position Size': 0.0,\n",
       "  'Position Step': 0,\n",
       "  'Price Candle': array([1.213  , 1.21344, 1.21299, 1.2132 ])},\n",
       " 0.0,\n",
       " False,\n",
       " defaultdict(str, {'Orders': 'Close set'}))"
      ]
     },
     "execution_count": 14,
     "metadata": {},
     "output_type": "execute_result"
    }
   ],
   "source": [
    "env.step(-1)"
   ]
  },
  {
   "cell_type": "code",
   "execution_count": 15,
   "id": "ef62b12e-4294-42e0-886e-fb844f6c4f20",
   "metadata": {},
   "outputs": [
    {
     "data": {
      "text/plain": [
       "({'Asset Value': 10008.996774193547,\n",
       "  'Cash': 10008.996774193547,\n",
       "  'Position Size': 0.0,\n",
       "  'Position Step': 0,\n",
       "  'Price Candle': array([1.2132 , 1.21374, 1.21308, 1.21361])},\n",
       " 0.0,\n",
       " False,\n",
       " defaultdict(str,\n",
       "             {'Broker': 'SELL EXECUTED at price: 1.21300, with value: 2258.06452'}))"
      ]
     },
     "execution_count": 15,
     "metadata": {},
     "output_type": "execute_result"
    }
   ],
   "source": [
    "env.step(0)"
   ]
  },
  {
   "cell_type": "code",
   "execution_count": 16,
   "id": "7463c8a0-36e6-49cc-be51-ba91ec1fa190",
   "metadata": {},
   "outputs": [
    {
     "name": "stdout",
     "output_type": "stream",
     "text": [
      "({'Asset Value': 10009.019354838709, 'Cash': 9686.438709677419, 'Position Size': 322.5806451612903, 'Position Step': 1, 'Price Candle': array([1.21361, 1.21388, 1.2136 , 1.21368])}, 0.022580645161724533, False, defaultdict(<class 'str'>, {'Orders': 'buy set with value=322.5806451612903'}))\n",
      "--------------------\n",
      "({'Asset Value': 10009.270967741935, 'Cash': 9041.529032258064, 'Position Size': 967.741935483871, 'Position Step': 2, 'Price Candle': array([1.21368, 1.21409, 1.21353, 1.21394])}, 0.2516129032264871, False, defaultdict(<class 'str'>, {'Broker': 'BUY EXECUTED at price: 1.21361, with value: 322.58065', 'Orders': 'buy set with value=645.1612903225806'}))\n",
      "--------------------\n",
      "({'Asset Value': 10009.587096774194, 'Cash': 7751.522580645161, 'Position Size': 2258.064516129032, 'Position Step': 3, 'Price Candle': array([1.21394, 1.21425, 1.21382, 1.21408])}, 0.3161290322586865, False, defaultdict(<class 'str'>, {'Broker': 'BUY EXECUTED at price: 1.21368, with value: 645.16129', 'Orders': 'buy set with value=1290.3225806451612'}))\n",
      "--------------------\n",
      "({'Asset Value': 10011.42580645161, 'Cash': 5172.716129032257, 'Position Size': 4838.709677419354, 'Position Step': 4, 'Price Candle': array([1.21408, 1.21455, 1.21408, 1.21446])}, 1.838709677416773, False, defaultdict(<class 'str'>, {'Broker': 'BUY EXECUTED at price: 1.21394, with value: 1290.32258', 'Orders': 'buy set with value=2580.6451612903224'}))\n",
      "--------------------\n",
      "({'Asset Value': 10012.325806451612, 'Cash': 12.32580645161175, 'Position Size': 10000.0, 'Position Step': 5, 'Price Candle': array([1.21446, 1.21466, 1.2143 , 1.21455])}, 0.9000000000014552, False, defaultdict(<class 'str'>, {'Broker': 'BUY EXECUTED at price: 1.21408, with value: 2580.64516', 'Orders': 'buy set with value=5161.290322580645'}))\n",
      "--------------------\n",
      "({'Asset Value': 10012.025806451613, 'Cash': 12.025806451612006, 'Position Size': 10000.0, 'Position Step': 5, 'Price Candle': array([1.21455, 1.21496, 1.21446, 1.21452])}, -0.2999999999992724, False, defaultdict(<class 'str'>, {'Broker': 'BUY EXECUTED at price: 1.21446, with value: 5161.29032'}))\n",
      "--------------------\n",
      "({'Asset Value': 10010.82580645161, 'Cash': 10.825806451610806, 'Position Size': 10000.0, 'Position Step': 5, 'Price Candle': array([1.21452, 1.21468, 1.21438, 1.2144 ])}, -1.2000000000025466, False, defaultdict(<class 'str'>, {}))\n",
      "--------------------\n",
      "({'Asset Value': 10009.025806451613, 'Cash': 9.025806451612336, 'Position Size': 10000.0, 'Position Step': 5, 'Price Candle': array([1.2144 , 1.21468, 1.21422, 1.21422])}, -1.7999999999974534, False, defaultdict(<class 'str'>, {}))\n",
      "--------------------\n",
      "({'Asset Value': 10006.72580645161, 'Cash': 6.725806451610591, 'Position Size': 10000.0, 'Position Step': 5, 'Price Candle': array([1.21422, 1.21432, 1.21384, 1.21399])}, -2.3000000000029104, False, defaultdict(<class 'str'>, {}))\n",
      "--------------------\n",
      "({'Asset Value': 10008.525806451611, 'Cash': 8.525806451611281, 'Position Size': 10000.0, 'Position Step': 5, 'Price Candle': array([1.21399, 1.21428, 1.21392, 1.21417])}, 1.8000000000010914, False, defaultdict(<class 'str'>, {}))\n",
      "--------------------\n"
     ]
    }
   ],
   "source": [
    "for _ in range(10):\n",
    "    print(env.step(1))\n",
    "    print('-'*20)"
   ]
  },
  {
   "cell_type": "code",
   "execution_count": 17,
   "id": "9611f362-c1c0-4fdf-a86e-a9891539d683",
   "metadata": {},
   "outputs": [
    {
     "name": "stdout",
     "output_type": "stream",
     "text": [
      "({'Asset Value': 10008.525806451611, 'Cash': 10008.525806451611, 'Position Size': 0.0, 'Position Step': 0, 'Price Candle': array([1.21417, 1.21434, 1.21417, 1.21422])}, 0.0, False, defaultdict(<class 'str'>, {'Orders': 'Close set'}))\n",
      "--------------------\n",
      "({'Asset Value': 10008.467741935481, 'Cash': 9685.887096774191, 'Position Size': -322.5806451612903, 'Position Step': 1, 'Price Candle': array([1.21422, 1.21447, 1.2142 , 1.2144 ])}, -0.05806451612988894, False, defaultdict(<class 'str'>, {'Broker': 'SELL EXECUTED at price: 1.21417, with value: 10000.00000', 'Orders': 'sell set with value=322.5806451612903'}))\n",
      "--------------------\n",
      "({'Asset Value': 10008.690322580642, 'Cash': 9040.94838709677, 'Position Size': -967.741935483871, 'Position Step': 2, 'Price Candle': array([1.2144 , 1.21441, 1.21414, 1.21417])}, 0.22258064516063314, False, defaultdict(<class 'str'>, {'Broker': 'SELL EXECUTED at price: 1.21422, with value: 322.58065', 'Orders': 'sell set with value=645.1612903225806'}))\n",
      "--------------------\n",
      "({'Asset Value': 10008.035483870965, 'Cash': 7749.970967741932, 'Position Size': -2258.064516129032, 'Position Step': 3, 'Price Candle': array([1.21417, 1.21446, 1.21416, 1.21446])}, -0.6548387096772785, False, defaultdict(<class 'str'>, {'Broker': 'SELL EXECUTED at price: 1.21440, with value: 645.16129', 'Orders': 'sell set with value=1290.3225806451612'}))\n",
      "--------------------\n",
      "({'Asset Value': 10008.229032258061, 'Cash': 5169.519354838707, 'Position Size': -4838.709677419354, 'Position Step': 4, 'Price Candle': array([1.21446, 1.21468, 1.21433, 1.21442])}, 0.19354838709659816, False, defaultdict(<class 'str'>, {'Broker': 'SELL EXECUTED at price: 1.21417, with value: 1290.32258', 'Orders': 'sell set with value=2580.6451612903224'}))\n",
      "--------------------\n",
      "({'Asset Value': 10006.029032258064, 'Cash': 6.029032258063165, 'Position Size': -10000.0, 'Position Step': 5, 'Price Candle': array([1.21442, 1.21473, 1.21433, 1.21464])}, -2.1999999999970896, False, defaultdict(<class 'str'>, {'Broker': 'SELL EXECUTED at price: 1.21446, with value: 2580.64516', 'Orders': 'sell set with value=5161.290322580645'}))\n",
      "--------------------\n",
      "({'Asset Value': 10010.029032258062, 'Cash': 10.029032258062724, 'Position Size': -10000.0, 'Position Step': 5, 'Price Candle': array([1.21464, 1.21464, 1.21422, 1.21424])}, 3.999999999998181, False, defaultdict(<class 'str'>, {'Broker': 'SELL EXECUTED at price: 1.21442, with value: 5161.29032'}))\n",
      "--------------------\n",
      "({'Asset Value': 10015.829032258063, 'Cash': 15.829032258062973, 'Position Size': -10000.0, 'Position Step': 5, 'Price Candle': array([1.21424, 1.21441, 1.21362, 1.21366])}, 5.800000000001091, False, defaultdict(<class 'str'>, {}))\n",
      "--------------------\n",
      "({'Asset Value': 10016.729032258063, 'Cash': 16.729032258062208, 'Position Size': -10000.0, 'Position Step': 5, 'Price Candle': array([1.21366, 1.21404, 1.21348, 1.21357])}, 0.8999999999996362, False, defaultdict(<class 'str'>, {}))\n",
      "--------------------\n",
      "({'Asset Value': 10015.62903225806, 'Cash': 15.629032258061663, 'Position Size': -10000.0, 'Position Step': 5, 'Price Candle': array([1.21357, 1.21398, 1.21332, 1.21368])}, -1.1000000000021828, False, defaultdict(<class 'str'>, {}))\n",
      "--------------------\n"
     ]
    }
   ],
   "source": [
    "for _ in range(10):\n",
    "    print(env.step(-1))\n",
    "    print('-'*20)"
   ]
  },
  {
   "cell_type": "code",
   "execution_count": 18,
   "id": "e435e0d8-64e0-4470-a6b9-cccd7a8f7a09",
   "metadata": {},
   "outputs": [
    {
     "name": "stderr",
     "output_type": "stream",
     "text": [
      "C:\\Python\\Python39\\lib\\site-packages\\backtrader_plotting\\bokeh\\figure.py:303: DeprecationWarning: `np.object` is a deprecated alias for the builtin `object`. To silence this warning, use `object` by itself. Doing this will not modify any behavior and is safe. \n",
      "Deprecated in NumPy 1.20; for more details and guidance: https://numpy.org/devdocs/release/1.20.0-notes.html#deprecations\n",
      "  self._add_columns([(source_id + 'volume', np.float64), (source_id + 'colors_volume', np.object)])\n"
     ]
    }
   ],
   "source": [
    "env.render('plots/mid.html')"
   ]
  },
  {
   "cell_type": "code",
   "execution_count": 19,
   "id": "7925474a-cd85-4a08-abfd-6bf0a551dcf2",
   "metadata": {},
   "outputs": [],
   "source": [
    "for _ in range(100):\n",
    "    act = env.action_space.sample()\n",
    "    observations, reward, done, info = env.step(act)\n",
    "    if done:\n",
    "        break"
   ]
  },
  {
   "cell_type": "code",
   "execution_count": 20,
   "id": "fda2e4f4-f29a-49b5-af61-6469880ff2b2",
   "metadata": {},
   "outputs": [],
   "source": [
    "env.render()"
   ]
  },
  {
   "cell_type": "code",
   "execution_count": null,
   "id": "e507687f-f73b-4365-855f-e6c8e9130930",
   "metadata": {},
   "outputs": [],
   "source": []
  }
 ],
 "metadata": {
  "kernelspec": {
   "display_name": "Python 3 (ipykernel)",
   "language": "python",
   "name": "python3"
  },
  "language_info": {
   "codemirror_mode": {
    "name": "ipython",
    "version": 3
   },
   "file_extension": ".py",
   "mimetype": "text/x-python",
   "name": "python",
   "nbconvert_exporter": "python",
   "pygments_lexer": "ipython3",
   "version": "3.9.6"
  }
 },
 "nbformat": 4,
 "nbformat_minor": 5
}
