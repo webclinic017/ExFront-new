{
 "cells": [
  {
   "cell_type": "code",
   "execution_count": 1,
   "id": "d7990091-5303-4eed-9f60-9aae64433e83",
   "metadata": {},
   "outputs": [
    {
     "data": {
      "text/html": [
       "\n",
       "    <div class=\"bk-root\">\n",
       "        <a href=\"https://bokeh.org\" target=\"_blank\" class=\"bk-logo bk-logo-small bk-logo-notebook\"></a>\n",
       "        <span id=\"1002\">Loading BokehJS ...</span>\n",
       "    </div>"
      ]
     },
     "metadata": {},
     "output_type": "display_data"
    },
    {
     "data": {
      "application/javascript": [
       "\n",
       "(function(root) {\n",
       "  function now() {\n",
       "    return new Date();\n",
       "  }\n",
       "\n",
       "  var force = true;\n",
       "\n",
       "  if (typeof root._bokeh_onload_callbacks === \"undefined\" || force === true) {\n",
       "    root._bokeh_onload_callbacks = [];\n",
       "    root._bokeh_is_loading = undefined;\n",
       "  }\n",
       "\n",
       "  var JS_MIME_TYPE = 'application/javascript';\n",
       "  var HTML_MIME_TYPE = 'text/html';\n",
       "  var EXEC_MIME_TYPE = 'application/vnd.bokehjs_exec.v0+json';\n",
       "  var CLASS_NAME = 'output_bokeh rendered_html';\n",
       "\n",
       "  /**\n",
       "   * Render data to the DOM node\n",
       "   */\n",
       "  function render(props, node) {\n",
       "    var script = document.createElement(\"script\");\n",
       "    node.appendChild(script);\n",
       "  }\n",
       "\n",
       "  /**\n",
       "   * Handle when an output is cleared or removed\n",
       "   */\n",
       "  function handleClearOutput(event, handle) {\n",
       "    var cell = handle.cell;\n",
       "\n",
       "    var id = cell.output_area._bokeh_element_id;\n",
       "    var server_id = cell.output_area._bokeh_server_id;\n",
       "    // Clean up Bokeh references\n",
       "    if (id != null && id in Bokeh.index) {\n",
       "      Bokeh.index[id].model.document.clear();\n",
       "      delete Bokeh.index[id];\n",
       "    }\n",
       "\n",
       "    if (server_id !== undefined) {\n",
       "      // Clean up Bokeh references\n",
       "      var cmd = \"from bokeh.io.state import curstate; print(curstate().uuid_to_server['\" + server_id + \"'].get_sessions()[0].document.roots[0]._id)\";\n",
       "      cell.notebook.kernel.execute(cmd, {\n",
       "        iopub: {\n",
       "          output: function(msg) {\n",
       "            var id = msg.content.text.trim();\n",
       "            if (id in Bokeh.index) {\n",
       "              Bokeh.index[id].model.document.clear();\n",
       "              delete Bokeh.index[id];\n",
       "            }\n",
       "          }\n",
       "        }\n",
       "      });\n",
       "      // Destroy server and session\n",
       "      var cmd = \"import bokeh.io.notebook as ion; ion.destroy_server('\" + server_id + \"')\";\n",
       "      cell.notebook.kernel.execute(cmd);\n",
       "    }\n",
       "  }\n",
       "\n",
       "  /**\n",
       "   * Handle when a new output is added\n",
       "   */\n",
       "  function handleAddOutput(event, handle) {\n",
       "    var output_area = handle.output_area;\n",
       "    var output = handle.output;\n",
       "\n",
       "    // limit handleAddOutput to display_data with EXEC_MIME_TYPE content only\n",
       "    if ((output.output_type != \"display_data\") || (!Object.prototype.hasOwnProperty.call(output.data, EXEC_MIME_TYPE))) {\n",
       "      return\n",
       "    }\n",
       "\n",
       "    var toinsert = output_area.element.find(\".\" + CLASS_NAME.split(' ')[0]);\n",
       "\n",
       "    if (output.metadata[EXEC_MIME_TYPE][\"id\"] !== undefined) {\n",
       "      toinsert[toinsert.length - 1].firstChild.textContent = output.data[JS_MIME_TYPE];\n",
       "      // store reference to embed id on output_area\n",
       "      output_area._bokeh_element_id = output.metadata[EXEC_MIME_TYPE][\"id\"];\n",
       "    }\n",
       "    if (output.metadata[EXEC_MIME_TYPE][\"server_id\"] !== undefined) {\n",
       "      var bk_div = document.createElement(\"div\");\n",
       "      bk_div.innerHTML = output.data[HTML_MIME_TYPE];\n",
       "      var script_attrs = bk_div.children[0].attributes;\n",
       "      for (var i = 0; i < script_attrs.length; i++) {\n",
       "        toinsert[toinsert.length - 1].firstChild.setAttribute(script_attrs[i].name, script_attrs[i].value);\n",
       "        toinsert[toinsert.length - 1].firstChild.textContent = bk_div.children[0].textContent\n",
       "      }\n",
       "      // store reference to server id on output_area\n",
       "      output_area._bokeh_server_id = output.metadata[EXEC_MIME_TYPE][\"server_id\"];\n",
       "    }\n",
       "  }\n",
       "\n",
       "  function register_renderer(events, OutputArea) {\n",
       "\n",
       "    function append_mime(data, metadata, element) {\n",
       "      // create a DOM node to render to\n",
       "      var toinsert = this.create_output_subarea(\n",
       "        metadata,\n",
       "        CLASS_NAME,\n",
       "        EXEC_MIME_TYPE\n",
       "      );\n",
       "      this.keyboard_manager.register_events(toinsert);\n",
       "      // Render to node\n",
       "      var props = {data: data, metadata: metadata[EXEC_MIME_TYPE]};\n",
       "      render(props, toinsert[toinsert.length - 1]);\n",
       "      element.append(toinsert);\n",
       "      return toinsert\n",
       "    }\n",
       "\n",
       "    /* Handle when an output is cleared or removed */\n",
       "    events.on('clear_output.CodeCell', handleClearOutput);\n",
       "    events.on('delete.Cell', handleClearOutput);\n",
       "\n",
       "    /* Handle when a new output is added */\n",
       "    events.on('output_added.OutputArea', handleAddOutput);\n",
       "\n",
       "    /**\n",
       "     * Register the mime type and append_mime function with output_area\n",
       "     */\n",
       "    OutputArea.prototype.register_mime_type(EXEC_MIME_TYPE, append_mime, {\n",
       "      /* Is output safe? */\n",
       "      safe: true,\n",
       "      /* Index of renderer in `output_area.display_order` */\n",
       "      index: 0\n",
       "    });\n",
       "  }\n",
       "\n",
       "  // register the mime type if in Jupyter Notebook environment and previously unregistered\n",
       "  if (root.Jupyter !== undefined) {\n",
       "    var events = require('base/js/events');\n",
       "    var OutputArea = require('notebook/js/outputarea').OutputArea;\n",
       "\n",
       "    if (OutputArea.prototype.mime_types().indexOf(EXEC_MIME_TYPE) == -1) {\n",
       "      register_renderer(events, OutputArea);\n",
       "    }\n",
       "  }\n",
       "\n",
       "  \n",
       "  if (typeof (root._bokeh_timeout) === \"undefined\" || force === true) {\n",
       "    root._bokeh_timeout = Date.now() + 5000;\n",
       "    root._bokeh_failed_load = false;\n",
       "  }\n",
       "\n",
       "  var NB_LOAD_WARNING = {'data': {'text/html':\n",
       "     \"<div style='background-color: #fdd'>\\n\"+\n",
       "     \"<p>\\n\"+\n",
       "     \"BokehJS does not appear to have successfully loaded. If loading BokehJS from CDN, this \\n\"+\n",
       "     \"may be due to a slow or bad network connection. Possible fixes:\\n\"+\n",
       "     \"</p>\\n\"+\n",
       "     \"<ul>\\n\"+\n",
       "     \"<li>re-rerun `output_notebook()` to attempt to load from CDN again, or</li>\\n\"+\n",
       "     \"<li>use INLINE resources instead, as so:</li>\\n\"+\n",
       "     \"</ul>\\n\"+\n",
       "     \"<code>\\n\"+\n",
       "     \"from bokeh.resources import INLINE\\n\"+\n",
       "     \"output_notebook(resources=INLINE)\\n\"+\n",
       "     \"</code>\\n\"+\n",
       "     \"</div>\"}};\n",
       "\n",
       "  function display_loaded() {\n",
       "    var el = document.getElementById(\"1002\");\n",
       "    if (el != null) {\n",
       "      el.textContent = \"BokehJS is loading...\";\n",
       "    }\n",
       "    if (root.Bokeh !== undefined) {\n",
       "      if (el != null) {\n",
       "        el.textContent = \"BokehJS \" + root.Bokeh.version + \" successfully loaded.\";\n",
       "      }\n",
       "    } else if (Date.now() < root._bokeh_timeout) {\n",
       "      setTimeout(display_loaded, 100)\n",
       "    }\n",
       "  }\n",
       "\n",
       "\n",
       "  function run_callbacks() {\n",
       "    try {\n",
       "      root._bokeh_onload_callbacks.forEach(function(callback) {\n",
       "        if (callback != null)\n",
       "          callback();\n",
       "      });\n",
       "    } finally {\n",
       "      delete root._bokeh_onload_callbacks\n",
       "    }\n",
       "    console.debug(\"Bokeh: all callbacks have finished\");\n",
       "  }\n",
       "\n",
       "  function load_libs(css_urls, js_urls, callback) {\n",
       "    if (css_urls == null) css_urls = [];\n",
       "    if (js_urls == null) js_urls = [];\n",
       "\n",
       "    root._bokeh_onload_callbacks.push(callback);\n",
       "    if (root._bokeh_is_loading > 0) {\n",
       "      console.debug(\"Bokeh: BokehJS is being loaded, scheduling callback at\", now());\n",
       "      return null;\n",
       "    }\n",
       "    if (js_urls == null || js_urls.length === 0) {\n",
       "      run_callbacks();\n",
       "      return null;\n",
       "    }\n",
       "    console.debug(\"Bokeh: BokehJS not loaded, scheduling load and callback at\", now());\n",
       "    root._bokeh_is_loading = css_urls.length + js_urls.length;\n",
       "\n",
       "    function on_load() {\n",
       "      root._bokeh_is_loading--;\n",
       "      if (root._bokeh_is_loading === 0) {\n",
       "        console.debug(\"Bokeh: all BokehJS libraries/stylesheets loaded\");\n",
       "        run_callbacks()\n",
       "      }\n",
       "    }\n",
       "\n",
       "    function on_error(url) {\n",
       "      console.error(\"failed to load \" + url);\n",
       "    }\n",
       "\n",
       "    for (let i = 0; i < css_urls.length; i++) {\n",
       "      const url = css_urls[i];\n",
       "      const element = document.createElement(\"link\");\n",
       "      element.onload = on_load;\n",
       "      element.onerror = on_error.bind(null, url);\n",
       "      element.rel = \"stylesheet\";\n",
       "      element.type = \"text/css\";\n",
       "      element.href = url;\n",
       "      console.debug(\"Bokeh: injecting link tag for BokehJS stylesheet: \", url);\n",
       "      document.body.appendChild(element);\n",
       "    }\n",
       "\n",
       "    const hashes = {\"https://cdn.bokeh.org/bokeh/release/bokeh-2.3.3.min.js\": \"dM3QQsP+wXdHg42wTqW85BjZQdLNNIXqlPw/BgKoExPmTG7ZLML4EGqLMfqHT6ON\", \"https://cdn.bokeh.org/bokeh/release/bokeh-tables-2.3.3.min.js\": \"8x57I4YuIfu8XyZfFo0XVr2WAT8EK4rh/uDe3wF7YuW2FNUSNEpJbsPaB1nJ2fz2\", \"https://cdn.bokeh.org/bokeh/release/bokeh-widgets-2.3.3.min.js\": \"3QTqdz9LyAm2i0sG5XTePsHec3UHWwVsrOL68SYRoAXsafvfAyqtQ+h440+qIBhS\"};\n",
       "\n",
       "    for (let i = 0; i < js_urls.length; i++) {\n",
       "      const url = js_urls[i];\n",
       "      const element = document.createElement('script');\n",
       "      element.onload = on_load;\n",
       "      element.onerror = on_error.bind(null, url);\n",
       "      element.async = false;\n",
       "      element.src = url;\n",
       "      if (url in hashes) {\n",
       "        element.crossOrigin = \"anonymous\";\n",
       "        element.integrity = \"sha384-\" + hashes[url];\n",
       "      }\n",
       "      console.debug(\"Bokeh: injecting script tag for BokehJS library: \", url);\n",
       "      document.head.appendChild(element);\n",
       "    }\n",
       "  };\n",
       "\n",
       "  function inject_raw_css(css) {\n",
       "    const element = document.createElement(\"style\");\n",
       "    element.appendChild(document.createTextNode(css));\n",
       "    document.body.appendChild(element);\n",
       "  }\n",
       "\n",
       "  \n",
       "  var js_urls = [\"https://cdn.bokeh.org/bokeh/release/bokeh-2.3.3.min.js\", \"https://cdn.bokeh.org/bokeh/release/bokeh-widgets-2.3.3.min.js\", \"https://cdn.bokeh.org/bokeh/release/bokeh-tables-2.3.3.min.js\"];\n",
       "  var css_urls = [];\n",
       "  \n",
       "\n",
       "  var inline_js = [\n",
       "    function(Bokeh) {\n",
       "      Bokeh.set_log_level(\"info\");\n",
       "    },\n",
       "    function(Bokeh) {\n",
       "    \n",
       "    \n",
       "    }\n",
       "  ];\n",
       "\n",
       "  function run_inline_js() {\n",
       "    \n",
       "    if (root.Bokeh !== undefined || force === true) {\n",
       "      \n",
       "    for (var i = 0; i < inline_js.length; i++) {\n",
       "      inline_js[i].call(root, root.Bokeh);\n",
       "    }\n",
       "    if (force === true) {\n",
       "        display_loaded();\n",
       "      }} else if (Date.now() < root._bokeh_timeout) {\n",
       "      setTimeout(run_inline_js, 100);\n",
       "    } else if (!root._bokeh_failed_load) {\n",
       "      console.log(\"Bokeh: BokehJS failed to load within specified timeout.\");\n",
       "      root._bokeh_failed_load = true;\n",
       "    } else if (force !== true) {\n",
       "      var cell = $(document.getElementById(\"1002\")).parents('.cell').data().cell;\n",
       "      cell.output_area.append_execute_result(NB_LOAD_WARNING)\n",
       "    }\n",
       "\n",
       "  }\n",
       "\n",
       "  if (root._bokeh_is_loading === 0) {\n",
       "    console.debug(\"Bokeh: BokehJS loaded, going straight to plotting\");\n",
       "    run_inline_js();\n",
       "  } else {\n",
       "    load_libs(css_urls, js_urls, function() {\n",
       "      console.debug(\"Bokeh: BokehJS plotting callback run at\", now());\n",
       "      run_inline_js();\n",
       "    });\n",
       "  }\n",
       "}(window));"
      ],
      "application/vnd.bokehjs_load.v0+json": "\n(function(root) {\n  function now() {\n    return new Date();\n  }\n\n  var force = true;\n\n  if (typeof root._bokeh_onload_callbacks === \"undefined\" || force === true) {\n    root._bokeh_onload_callbacks = [];\n    root._bokeh_is_loading = undefined;\n  }\n\n  \n\n  \n  if (typeof (root._bokeh_timeout) === \"undefined\" || force === true) {\n    root._bokeh_timeout = Date.now() + 5000;\n    root._bokeh_failed_load = false;\n  }\n\n  var NB_LOAD_WARNING = {'data': {'text/html':\n     \"<div style='background-color: #fdd'>\\n\"+\n     \"<p>\\n\"+\n     \"BokehJS does not appear to have successfully loaded. If loading BokehJS from CDN, this \\n\"+\n     \"may be due to a slow or bad network connection. Possible fixes:\\n\"+\n     \"</p>\\n\"+\n     \"<ul>\\n\"+\n     \"<li>re-rerun `output_notebook()` to attempt to load from CDN again, or</li>\\n\"+\n     \"<li>use INLINE resources instead, as so:</li>\\n\"+\n     \"</ul>\\n\"+\n     \"<code>\\n\"+\n     \"from bokeh.resources import INLINE\\n\"+\n     \"output_notebook(resources=INLINE)\\n\"+\n     \"</code>\\n\"+\n     \"</div>\"}};\n\n  function display_loaded() {\n    var el = document.getElementById(\"1002\");\n    if (el != null) {\n      el.textContent = \"BokehJS is loading...\";\n    }\n    if (root.Bokeh !== undefined) {\n      if (el != null) {\n        el.textContent = \"BokehJS \" + root.Bokeh.version + \" successfully loaded.\";\n      }\n    } else if (Date.now() < root._bokeh_timeout) {\n      setTimeout(display_loaded, 100)\n    }\n  }\n\n\n  function run_callbacks() {\n    try {\n      root._bokeh_onload_callbacks.forEach(function(callback) {\n        if (callback != null)\n          callback();\n      });\n    } finally {\n      delete root._bokeh_onload_callbacks\n    }\n    console.debug(\"Bokeh: all callbacks have finished\");\n  }\n\n  function load_libs(css_urls, js_urls, callback) {\n    if (css_urls == null) css_urls = [];\n    if (js_urls == null) js_urls = [];\n\n    root._bokeh_onload_callbacks.push(callback);\n    if (root._bokeh_is_loading > 0) {\n      console.debug(\"Bokeh: BokehJS is being loaded, scheduling callback at\", now());\n      return null;\n    }\n    if (js_urls == null || js_urls.length === 0) {\n      run_callbacks();\n      return null;\n    }\n    console.debug(\"Bokeh: BokehJS not loaded, scheduling load and callback at\", now());\n    root._bokeh_is_loading = css_urls.length + js_urls.length;\n\n    function on_load() {\n      root._bokeh_is_loading--;\n      if (root._bokeh_is_loading === 0) {\n        console.debug(\"Bokeh: all BokehJS libraries/stylesheets loaded\");\n        run_callbacks()\n      }\n    }\n\n    function on_error(url) {\n      console.error(\"failed to load \" + url);\n    }\n\n    for (let i = 0; i < css_urls.length; i++) {\n      const url = css_urls[i];\n      const element = document.createElement(\"link\");\n      element.onload = on_load;\n      element.onerror = on_error.bind(null, url);\n      element.rel = \"stylesheet\";\n      element.type = \"text/css\";\n      element.href = url;\n      console.debug(\"Bokeh: injecting link tag for BokehJS stylesheet: \", url);\n      document.body.appendChild(element);\n    }\n\n    const hashes = {\"https://cdn.bokeh.org/bokeh/release/bokeh-2.3.3.min.js\": \"dM3QQsP+wXdHg42wTqW85BjZQdLNNIXqlPw/BgKoExPmTG7ZLML4EGqLMfqHT6ON\", \"https://cdn.bokeh.org/bokeh/release/bokeh-tables-2.3.3.min.js\": \"8x57I4YuIfu8XyZfFo0XVr2WAT8EK4rh/uDe3wF7YuW2FNUSNEpJbsPaB1nJ2fz2\", \"https://cdn.bokeh.org/bokeh/release/bokeh-widgets-2.3.3.min.js\": \"3QTqdz9LyAm2i0sG5XTePsHec3UHWwVsrOL68SYRoAXsafvfAyqtQ+h440+qIBhS\"};\n\n    for (let i = 0; i < js_urls.length; i++) {\n      const url = js_urls[i];\n      const element = document.createElement('script');\n      element.onload = on_load;\n      element.onerror = on_error.bind(null, url);\n      element.async = false;\n      element.src = url;\n      if (url in hashes) {\n        element.crossOrigin = \"anonymous\";\n        element.integrity = \"sha384-\" + hashes[url];\n      }\n      console.debug(\"Bokeh: injecting script tag for BokehJS library: \", url);\n      document.head.appendChild(element);\n    }\n  };\n\n  function inject_raw_css(css) {\n    const element = document.createElement(\"style\");\n    element.appendChild(document.createTextNode(css));\n    document.body.appendChild(element);\n  }\n\n  \n  var js_urls = [\"https://cdn.bokeh.org/bokeh/release/bokeh-2.3.3.min.js\", \"https://cdn.bokeh.org/bokeh/release/bokeh-widgets-2.3.3.min.js\", \"https://cdn.bokeh.org/bokeh/release/bokeh-tables-2.3.3.min.js\"];\n  var css_urls = [];\n  \n\n  var inline_js = [\n    function(Bokeh) {\n      Bokeh.set_log_level(\"info\");\n    },\n    function(Bokeh) {\n    \n    \n    }\n  ];\n\n  function run_inline_js() {\n    \n    if (root.Bokeh !== undefined || force === true) {\n      \n    for (var i = 0; i < inline_js.length; i++) {\n      inline_js[i].call(root, root.Bokeh);\n    }\n    if (force === true) {\n        display_loaded();\n      }} else if (Date.now() < root._bokeh_timeout) {\n      setTimeout(run_inline_js, 100);\n    } else if (!root._bokeh_failed_load) {\n      console.log(\"Bokeh: BokehJS failed to load within specified timeout.\");\n      root._bokeh_failed_load = true;\n    } else if (force !== true) {\n      var cell = $(document.getElementById(\"1002\")).parents('.cell').data().cell;\n      cell.output_area.append_execute_result(NB_LOAD_WARNING)\n    }\n\n  }\n\n  if (root._bokeh_is_loading === 0) {\n    console.debug(\"Bokeh: BokehJS loaded, going straight to plotting\");\n    run_inline_js();\n  } else {\n    load_libs(css_urls, js_urls, function() {\n      console.debug(\"Bokeh: BokehJS plotting callback run at\", now());\n      run_inline_js();\n    });\n  }\n}(window));"
     },
     "metadata": {},
     "output_type": "display_data"
    }
   ],
   "source": [
    "import datetime\n",
    "from gym_trade_environment_V2 import GymGridStrategyEnv, GridStrategy, csv_data_reader, TimeFrame\n",
    "import random"
   ]
  },
  {
   "cell_type": "code",
   "execution_count": 2,
   "id": "06bfa133-1989-4911-9f5d-8b9640d4b8f8",
   "metadata": {},
   "outputs": [],
   "source": [
    "data = csv_data_reader(\n",
    "        dataname='EURUSD_Data.csv',  # آدرس دیتا بیس\n",
    "        dtformat=('%m/%d/%y %H:%M'),  # فرمت تاریخ و زمان در فایل\n",
    "        timeframe=TimeFrame.Minutes,  #  واحد تایم فریم (ثانیه، دقیقه، ساعت، روز)\n",
    "        fromdate=datetime.datetime(2021,5,11,0,0),\n",
    "        todate=datetime.datetime(2021,5,15,0,0),\n",
    "        datetime=0, # شماره ستون زمان\n",
    "        high=2, # شماره ستون قیمت بالای کندل\n",
    "        low=3, # شماره ستون قیمت پایین کندل\n",
    "        open=1, # شماره ستون قیمت بازشدن کندل\n",
    "        close=4, # شماره ستون قیمت بستن کندل\n",
    "        volume=-1, # شماره ستون قیمت حجم کندل\n",
    "        openinterest=-1,\n",
    "    )"
   ]
  },
  {
   "cell_type": "code",
   "execution_count": 3,
   "id": "d07384d7-5b3b-4a90-a3e6-839f5b864a31",
   "metadata": {},
   "outputs": [],
   "source": [
    "env = GymGridStrategyEnv(\n",
    "    GridStrategy,\n",
    "    data,  # دیتای ورودی برای بک تست و ترین\n",
    "    init_cash=10_000,  # کل پول مورد نظر برای معامله پله ای\n",
    "    base_cash = 10,  # مقادر پول پایه مانده حساب برای صفر نشد حساب\n",
    "    commission=0.000,  # میزان کمیسون معامله\n",
    "    )"
   ]
  },
  {
   "cell_type": "code",
   "execution_count": 4,
   "id": "eb8b4d62-e511-4a4c-859d-5263b61b3604",
   "metadata": {},
   "outputs": [
    {
     "data": {
      "text/plain": [
       "Dict(Asset Value:Box(0.0, inf, (1,), float32), Cash:Box(0.0, inf, (1,), float32), Price Candle:Box(0.0, inf, (4,), float32))"
      ]
     },
     "execution_count": 4,
     "metadata": {},
     "output_type": "execute_result"
    }
   ],
   "source": [
    "env.observation_space"
   ]
  },
  {
   "cell_type": "code",
   "execution_count": 5,
   "id": "0c9fa915-969d-45aa-8e85-5268040c9a64",
   "metadata": {},
   "outputs": [
    {
     "data": {
      "text/plain": [
       "Dict(Activate:Discrete(2), Grid:Discrete(9, start=2), Lower and Upper Prices:Box(0.0, inf, (2,), float32), each step investment amount:Box(0.0, inf, (1,), float32), mode:Discrete(2))"
      ]
     },
     "execution_count": 5,
     "metadata": {},
     "output_type": "execute_result"
    }
   ],
   "source": [
    "env.action_space"
   ]
  },
  {
   "cell_type": "code",
   "execution_count": 6,
   "id": "b20521f2-cd37-481f-8576-5c348a6022f3",
   "metadata": {},
   "outputs": [
    {
     "data": {
      "text/plain": [
       "OrderedDict([('Activate', 0),\n",
       "             ('Grid', 5),\n",
       "             ('Lower and Upper Prices',\n",
       "              array([0.12265187, 0.33079034], dtype=float32)),\n",
       "             ('each step investment amount',\n",
       "              array([1.2523879], dtype=float32)),\n",
       "             ('mode', 1)])"
      ]
     },
     "execution_count": 6,
     "metadata": {},
     "output_type": "execute_result"
    }
   ],
   "source": [
    "env.action_space.sample()"
   ]
  },
  {
   "cell_type": "markdown",
   "id": "12244972-b0ae-4ae7-bdab-6d5de3631c5f",
   "metadata": {
    "tags": []
   },
   "source": [
    "# Test 1"
   ]
  },
  {
   "cell_type": "code",
   "execution_count": 7,
   "id": "a0eb8bd4-024a-4e6d-83ec-b7b5e3b7337e",
   "metadata": {},
   "outputs": [
    {
     "data": {
      "text/plain": [
       "({'Asset Value': 10010.0,\n",
       "  'Cash': 10010.0,\n",
       "  'Price Candle': array([1.21406, 1.21429, 1.21358, 1.21385])},\n",
       " defaultdict(str, {}))"
      ]
     },
     "execution_count": 7,
     "metadata": {},
     "output_type": "execute_result"
    }
   ],
   "source": [
    "env.reset()"
   ]
  },
  {
   "cell_type": "code",
   "execution_count": 8,
   "id": "43a33296-b24c-436f-9e37-12c89fec6267",
   "metadata": {},
   "outputs": [],
   "source": [
    "for _ in range(130):\n",
    "    res = env.step({\n",
    "    'Activate': 1,\n",
    "    'Grid': 5,\n",
    "    'Lower and Upper Prices':[1.208, 1.217],\n",
    "    'each step investment amount':[1000],\n",
    "    'mode':0\n",
    "    })"
   ]
  },
  {
   "cell_type": "code",
   "execution_count": 9,
   "id": "f987130f-4b27-44bd-a1f4-6137358612b5",
   "metadata": {},
   "outputs": [],
   "source": [
    "for _ in range(100):\n",
    "    res = env.step({\n",
    "    'Activate': 0,\n",
    "    # 'Grid': random.randrange(1,11),\n",
    "    # 'Lower and Upper Prices':[1.212, 1.217],\n",
    "    # 'each step investment amount':[1000],\n",
    "    # 'mode':0\n",
    "    })"
   ]
  },
  {
   "cell_type": "code",
   "execution_count": 10,
   "id": "627203c0-56d1-40d1-a5f3-107965b3e7f7",
   "metadata": {},
   "outputs": [],
   "source": [
    "while True:\n",
    "    *_, done, info = env.step({\n",
    "    'Activate': 1,\n",
    "    'Grid': 10,\n",
    "    'Lower and Upper Prices':[1.2, 1.22],\n",
    "    'each step investment amount':[2000],\n",
    "    'mode':1\n",
    "    })\n",
    "    if done:\n",
    "        break"
   ]
  },
  {
   "cell_type": "code",
   "execution_count": 11,
   "id": "889fd591-543d-4690-a7ee-10f076d5e189",
   "metadata": {},
   "outputs": [
    {
     "name": "stderr",
     "output_type": "stream",
     "text": [
      "C:\\Python\\Python39\\lib\\site-packages\\backtrader_plotting\\bokeh\\figure.py:303: DeprecationWarning: `np.object` is a deprecated alias for the builtin `object`. To silence this warning, use `object` by itself. Doing this will not modify any behavior and is safe. \n",
      "Deprecated in NumPy 1.20; for more details and guidance: https://numpy.org/devdocs/release/1.20.0-notes.html#deprecations\n",
      "  self._add_columns([(source_id + 'volume', np.float64), (source_id + 'colors_volume', np.object)])\n"
     ]
    }
   ],
   "source": [
    "env.render('plots/tst1.html')"
   ]
  },
  {
   "cell_type": "markdown",
   "id": "ef6853a7-e5c1-4adb-94ac-c80ebce0acff",
   "metadata": {
    "tags": []
   },
   "source": [
    "# Test 2"
   ]
  },
  {
   "cell_type": "code",
   "execution_count": 12,
   "id": "bae6dcf9-a04b-4364-becb-dabaa2db213d",
   "metadata": {},
   "outputs": [
    {
     "data": {
      "text/plain": [
       "({'Asset Value': 10010.0,\n",
       "  'Cash': 10010.0,\n",
       "  'Price Candle': array([1.21406, 1.21429, 1.21358, 1.21385])},\n",
       " defaultdict(str, {}))"
      ]
     },
     "execution_count": 12,
     "metadata": {},
     "output_type": "execute_result"
    }
   ],
   "source": [
    "env.reset()"
   ]
  },
  {
   "cell_type": "code",
   "execution_count": 13,
   "id": "5c3b6aa7-fc9f-4164-bffa-efb5646edc3b",
   "metadata": {},
   "outputs": [],
   "source": [
    "res = env.step({\n",
    "    'Activate': 1,\n",
    "    'Grid': random.randrange(2,11),\n",
    "    'Lower and Upper Prices':[1.208, 1.217],\n",
    "    'each step investment amount':[1000],\n",
    "    'mode':0\n",
    "    })"
   ]
  },
  {
   "cell_type": "code",
   "execution_count": 14,
   "id": "8f03a871-7540-4c8b-b392-50d70d2df1d7",
   "metadata": {},
   "outputs": [],
   "source": [
    "for _ in range(130):\n",
    "    res = env.step({\n",
    "    'Activate': 1,\n",
    "    'Grid': random.randrange(2,11),\n",
    "    'Lower and Upper Prices':[1.208, 1.217],\n",
    "    'each step investment amount':[1000],\n",
    "    'mode':0\n",
    "    })\n",
    "    \n",
    "for _ in range(100):\n",
    "    res = env.step({\n",
    "    'Activate': 0,\n",
    "    'Grid': random.randrange(2,11),\n",
    "    'Lower and Upper Prices':[1.212, 1.217],\n",
    "    'each step investment amount':[1000],\n",
    "    'mode':0\n",
    "    })\n",
    "    \n",
    "while True:\n",
    "    *_, done, info = env.step({\n",
    "    'Activate': random.randrange(2),\n",
    "    'Grid': random.randrange(2,11),\n",
    "    'Lower and Upper Prices':[1.2 + random.random() * 0.02, 1.2 + random.random() * 0.02],\n",
    "    'each step investment amount':[2000],\n",
    "    'mode':1\n",
    "    })\n",
    "    if done:\n",
    "        break\n",
    "\n",
    "env.render('plots/tst2.html')"
   ]
  },
  {
   "cell_type": "markdown",
   "id": "9e51de5b-802a-4c08-b673-d1a7bd21d850",
   "metadata": {},
   "source": [
    "# Indicators"
   ]
  },
  {
   "cell_type": "code",
   "execution_count": 15,
   "id": "5d7db792-f152-4ef7-b8d9-1e221f869a0d",
   "metadata": {},
   "outputs": [],
   "source": [
    "import gym\n",
    "import numpy as np\n",
    "from gym_trade_environment_V2 import btind"
   ]
  },
  {
   "cell_type": "code",
   "execution_count": 16,
   "id": "a6b1fca2-7e4c-4ea4-acff-cca728d0b225",
   "metadata": {},
   "outputs": [],
   "source": [
    "class GridStrategy2(GridStrategy):\n",
    "    \n",
    "    @staticmethod\n",
    "    def observation_space():\n",
    "        observation_space = super(GridStrategy, GridStrategy).observation_space()\n",
    "        observation_space['rsi'] = gym.spaces.Box(\n",
    "            low=0,\n",
    "            high=100,\n",
    "            shape=(1,),\n",
    "            dtype=np.float32)\n",
    "        return observation_space\n",
    "    \n",
    "    def __init__(self):\n",
    "        super().__init__()\n",
    "        self.rsi = btind.RSI_Safe(period=14)\n",
    "        \n",
    "    def _send_observations(self):\n",
    "        observations = super()._send_observations()\n",
    "        try:\n",
    "            a = self.rsi[0]\n",
    "        except IndexError:\n",
    "            a = np.nan\n",
    "        observations['rsi'] = a\n",
    "        return observations"
   ]
  },
  {
   "cell_type": "code",
   "execution_count": 17,
   "id": "a13be99b-aa48-4849-ba90-2bd163717ac1",
   "metadata": {},
   "outputs": [],
   "source": [
    "env = GymGridStrategyEnv(\n",
    "    GridStrategy2,\n",
    "    data,  # دیتای ورودی برای بک تست و ترین\n",
    "    init_cash=10_000,  # کل پول مورد نظر برای معامله پله ای\n",
    "    base_cash = 10,  # مقادر پول پایه مانده حساب برای صفر نشد حساب\n",
    "    commission=0.000,  # میزان کمیسون معامله\n",
    "    )"
   ]
  },
  {
   "cell_type": "code",
   "execution_count": 18,
   "id": "fa89e8ac-5ec8-4d6b-b04d-f13c53867104",
   "metadata": {},
   "outputs": [
    {
     "data": {
      "text/plain": [
       "Dict(Asset Value:Box(0.0, inf, (1,), float32), Cash:Box(0.0, inf, (1,), float32), Price Candle:Box(0.0, inf, (4,), float32), rsi:Box(0.0, 100.0, (1,), float32))"
      ]
     },
     "execution_count": 18,
     "metadata": {},
     "output_type": "execute_result"
    }
   ],
   "source": [
    "env.observation_space"
   ]
  },
  {
   "cell_type": "code",
   "execution_count": 19,
   "id": "567b7726-7e7d-4f35-bf66-b9b27fd9df3e",
   "metadata": {},
   "outputs": [
    {
     "data": {
      "text/plain": [
       "({'Asset Value': 10010.0,\n",
       "  'Cash': 10010.0,\n",
       "  'Price Candle': array([1.21422, 1.21432, 1.21384, 1.21399]),\n",
       "  'rsi': 55.9105431309904},\n",
       " defaultdict(str, {}))"
      ]
     },
     "execution_count": 19,
     "metadata": {},
     "output_type": "execute_result"
    }
   ],
   "source": [
    "env.reset()"
   ]
  },
  {
   "cell_type": "code",
   "execution_count": 20,
   "id": "9c26d57f-6146-43c9-aec3-259f488749ef",
   "metadata": {},
   "outputs": [
    {
     "data": {
      "text/plain": [
       "{'Asset Value': 10010.0,\n",
       " 'Cash': 10010.0,\n",
       " 'Price Candle': array([1.21399, 1.21428, 1.21392, 1.21417]),\n",
       " 'rsi': 51.81052152129047}"
      ]
     },
     "execution_count": 20,
     "metadata": {},
     "output_type": "execute_result"
    }
   ],
   "source": [
    "a, *_ = env.step(None)\n",
    "a"
   ]
  },
  {
   "cell_type": "code",
   "execution_count": 21,
   "id": "825dbff5-ef78-4dfe-a6bb-acabef412ef7",
   "metadata": {},
   "outputs": [
    {
     "data": {
      "text/plain": [
       "({'Asset Value': 10010.0,\n",
       "  'Cash': 10010.0,\n",
       "  'Price Candle': array([1.21417, 1.21434, 1.21417, 1.21422]),\n",
       "  'rsi': 54.61549883684287},\n",
       " 0.0,\n",
       " False,\n",
       " defaultdict(str, {'Grid': 'Grid Generated'}))"
      ]
     },
     "execution_count": 21,
     "metadata": {},
     "output_type": "execute_result"
    }
   ],
   "source": [
    "env.step({\n",
    "    'Activate': random.randrange(2),\n",
    "    'Grid': random.randrange(2,11),\n",
    "    'Lower and Upper Prices':[1.2 + random.random() * 0.02, 1.2 + random.random() * 0.02],\n",
    "    'each step investment amount':[2000],\n",
    "    'mode':1\n",
    "    })"
   ]
  },
  {
   "cell_type": "code",
   "execution_count": 22,
   "id": "bdecb621-dc42-4112-b400-e22f6aa7813c",
   "metadata": {},
   "outputs": [],
   "source": [
    "while True:\n",
    "    *_, done, info = env.step({\n",
    "    'Activate': random.randrange(2),\n",
    "    'Grid': random.randrange(2,11),\n",
    "    'Lower and Upper Prices':[1.2 + random.random() * 0.02, 1.2 + random.random() * 0.02],\n",
    "    'each step investment amount':[2000],\n",
    "    'mode':1\n",
    "    })\n",
    "    if done:\n",
    "        break\n",
    "\n",
    "env.render('plots/tst3.html')"
   ]
  },
  {
   "cell_type": "code",
   "execution_count": null,
   "id": "d972a516-0471-4ec1-b21d-2a93e5372078",
   "metadata": {},
   "outputs": [],
   "source": []
  }
 ],
 "metadata": {
  "kernelspec": {
   "display_name": "Python 3 (ipykernel)",
   "language": "python",
   "name": "python3"
  },
  "language_info": {
   "codemirror_mode": {
    "name": "ipython",
    "version": 3
   },
   "file_extension": ".py",
   "mimetype": "text/x-python",
   "name": "python",
   "nbconvert_exporter": "python",
   "pygments_lexer": "ipython3",
   "version": "3.9.6"
  }
 },
 "nbformat": 4,
 "nbformat_minor": 5
}
